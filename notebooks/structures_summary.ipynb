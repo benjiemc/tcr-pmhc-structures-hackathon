{
 "cells": [
  {
   "cell_type": "markdown",
   "id": "2bff0efb",
   "metadata": {
    "papermill": {
     "duration": 0.013033,
     "end_time": "2025-05-27T14:32:18.157151",
     "exception": false,
     "start_time": "2025-05-27T14:32:18.144118",
     "status": "completed"
    },
    "tags": []
   },
   "source": [
    "# TCR:pMHC Structures\n",
    "\n",
    "The following notebook summarises the structural data available for the Unravelling T Cell Recognition: Insights from Immunology and AI Hackathon."
   ]
  },
  {
   "cell_type": "code",
   "execution_count": 1,
   "id": "4d8b922d",
   "metadata": {
    "execution": {
     "iopub.execute_input": "2025-05-27T14:32:18.180396Z",
     "iopub.status.busy": "2025-05-27T14:32:18.180141Z",
     "iopub.status.idle": "2025-05-27T14:32:41.936948Z",
     "shell.execute_reply": "2025-05-27T14:32:41.936181Z"
    },
    "papermill": {
     "duration": 23.770349,
     "end_time": "2025-05-27T14:32:41.938486",
     "exception": false,
     "start_time": "2025-05-27T14:32:18.168137",
     "status": "completed"
    },
    "tags": []
   },
   "outputs": [],
   "source": [
    "import glob\n",
    "import os\n",
    "\n",
    "import matplotlib.pyplot as plt\n",
    "import numpy as np\n",
    "import pandas as pd\n",
    "import plotly.graph_objects as go\n",
    "import seaborn as sns\n",
    "from Bio.SeqUtils import IUPACData\n",
    "from scipy import stats"
   ]
  },
  {
   "cell_type": "code",
   "execution_count": 2,
   "id": "b2444caa",
   "metadata": {
    "execution": {
     "iopub.execute_input": "2025-05-27T14:32:42.017312Z",
     "iopub.status.busy": "2025-05-27T14:32:42.016083Z",
     "iopub.status.idle": "2025-05-27T14:32:42.060773Z",
     "shell.execute_reply": "2025-05-27T14:32:42.060159Z"
    },
    "papermill": {
     "duration": 0.106797,
     "end_time": "2025-05-27T14:32:42.062372",
     "exception": false,
     "start_time": "2025-05-27T14:32:41.955575",
     "status": "completed"
    },
    "tags": []
   },
   "outputs": [],
   "source": [
    "structures_summary = pd.read_csv(\"data/interim/structures/structures_summary.csv\")"
   ]
  },
  {
   "cell_type": "code",
   "execution_count": 3,
   "id": "5dccdbae",
   "metadata": {
    "execution": {
     "iopub.execute_input": "2025-05-27T14:32:42.087683Z",
     "iopub.status.busy": "2025-05-27T14:32:42.086665Z",
     "iopub.status.idle": "2025-05-27T14:32:42.092651Z",
     "shell.execute_reply": "2025-05-27T14:32:42.092160Z"
    },
    "papermill": {
     "duration": 0.019344,
     "end_time": "2025-05-27T14:32:42.093687",
     "exception": false,
     "start_time": "2025-05-27T14:32:42.074343",
     "status": "completed"
    },
    "tags": []
   },
   "outputs": [
    {
     "name": "stdout",
     "output_type": "stream",
     "text": [
      "There are 206 structures in the dataset.\n"
     ]
    }
   ],
   "source": [
    "print(\"There are\", len(structures_summary), \"structures in the dataset.\")"
   ]
  },
  {
   "cell_type": "code",
   "execution_count": 4,
   "id": "4483c8b1",
   "metadata": {
    "execution": {
     "iopub.execute_input": "2025-05-27T14:32:42.121528Z",
     "iopub.status.busy": "2025-05-27T14:32:42.121132Z",
     "iopub.status.idle": "2025-05-27T14:32:42.227244Z",
     "shell.execute_reply": "2025-05-27T14:32:42.226696Z"
    },
    "papermill": {
     "duration": 0.119411,
     "end_time": "2025-05-27T14:32:42.228560",
     "exception": false,
     "start_time": "2025-05-27T14:32:42.109149",
     "status": "completed"
    },
    "tags": []
   },
   "outputs": [],
   "source": [
    "structures_summary[\"species\"] = (\n",
    "    structures_summary[[\"alpha_chain_species\", \"beta_chain_species\"]]\n",
    "    .map(lambda species: species[1:-1].split(\",\"))\n",
    "    .map(lambda species: [entry.strip(\"'\").rstrip(\"'\").title() for entry in species])\n",
    "    .apply(\n",
    "        lambda row: \"/\".join({*row[\"alpha_chain_species\"], *row[\"beta_chain_species\"]}),\n",
    "        axis=1,\n",
    "    )\n",
    ")"
   ]
  },
  {
   "cell_type": "code",
   "execution_count": 5,
   "id": "b4c7f433",
   "metadata": {
    "execution": {
     "iopub.execute_input": "2025-05-27T14:32:42.253553Z",
     "iopub.status.busy": "2025-05-27T14:32:42.252716Z",
     "iopub.status.idle": "2025-05-27T14:32:42.872764Z",
     "shell.execute_reply": "2025-05-27T14:32:42.872208Z"
    },
    "papermill": {
     "duration": 0.6331,
     "end_time": "2025-05-27T14:32:42.874069",
     "exception": false,
     "start_time": "2025-05-27T14:32:42.240969",
     "status": "completed"
    },
    "tags": []
   },
   "outputs": [
    {
     "data": {
      "image/png": "[encoded data removed]",
      "text/plain": [
       "<Figure size 640x480 with 1 Axes>"
      ]
     },
     "metadata": {},
     "output_type": "display_data"
    }
   ],
   "source": [
    "plt.title(\"Distribution of species\")\n",
    "\n",
    "structures_summary.value_counts(\"species\").plot.pie(autopct=\"%1.1f%%\")\n",
    "plt.ylabel(\"\")\n",
    "\n",
    "plt.show()"
   ]
  },
  {
   "cell_type": "markdown",
   "id": "88bc38bb",
   "metadata": {
    "papermill": {
     "duration": 0.014141,
     "end_time": "2025-05-27T14:32:42.908440",
     "exception": false,
     "start_time": "2025-05-27T14:32:42.894299",
     "status": "completed"
    },
    "tags": []
   },
   "source": [
    "## TCRs"
   ]
  },
  {
   "cell_type": "code",
   "execution_count": 6,
   "id": "f8f81933",
   "metadata": {
    "execution": {
     "iopub.execute_input": "2025-05-27T14:32:42.935626Z",
     "iopub.status.busy": "2025-05-27T14:32:42.935339Z",
     "iopub.status.idle": "2025-05-27T14:32:47.247102Z",
     "shell.execute_reply": "2025-05-27T14:32:47.246439Z"
    },
    "papermill": {
     "duration": 4.32668,
     "end_time": "2025-05-27T14:32:47.248398",
     "exception": false,
     "start_time": "2025-05-27T14:32:42.921718",
     "status": "completed"
    },
    "tags": []
   },
   "outputs": [
    {
     "data": {
      "application/vnd.plotly.v1+json": {
       "config": {
        "plotlyServerURL": "https://plot.ly"
       },
       "data": [
        {
         "link": {
          "source": [
           0,
           3,
           3,
           3,
           3,
           8,
           8,
           8,
           8,
           8,
           8,
           8,
           8,
           8,
           8,
           8,
           8,
           19,
           21,
           22,
           22,
           23,
           25,
           27,
           29,
           29,
           32,
           34,
           34,
           34,
           36,
           36,
           36,
           38,
           38,
           38,
           38,
           38,
           41,
           41,
           41,
           41,
           41,
           41,
           41,
           43,
           44,
           44,
           44,
           46,
           46,
           46,
           46,
           49,
           49,
           49,
           49,
           49,
           49,
           52,
           54,
           54,
           54,
           54,
           56,
           57,
           58,
           59,
           60,
           60,
           61,
           62,
           62,
           62,
           62,
           62,
           62,
           64,
           65,
           66,
           68,
           68,
           71,
           71,
           71,
           73,
           74,
           75,
           76,
           77,
           78,
           79,
           79,
           80,
           81,
           83,
           83,
           83,
           85,
           85,
           86,
           86,
           87,
           89,
           84,
           9,
           9,
           9,
           9,
           9,
           26,
           26,
           53,
           30,
           30,
           30,
           69,
           47,
           39,
           39,
           39,
           42,
           42,
           42,
           31,
           31,
           31,
           31,
           4,
           4,
           4,
           10,
           10,
           82,
           11,
           11,
           5,
           5,
           5,
           5,
           5,
           5,
           5,
           35,
           12,
           12,
           72,
           50,
           50,
           40,
           40,
           40,
           40,
           6,
           6,
           70,
           88,
           48,
           48,
           48,
           48,
           28,
           28,
           33,
           33,
           33,
           33,
           63,
           45,
           45,
           45,
           45,
           13,
           51,
           51,
           7,
           7,
           7,
           14,
           14,
           14,
           14,
           24,
           24,
           15,
           15,
           15,
           15,
           16,
           20,
           55,
           55,
           37,
           37,
           37,
           37,
           17,
           17,
           17,
           17,
           67,
           90,
           1,
           1,
           1,
           1,
           18,
           18,
           99,
           99,
           92,
           126,
           124,
           124,
           124,
           124,
           125,
           93,
           132,
           97,
           97,
           112,
           112,
           112,
           112,
           122,
           108,
           108,
           100,
           100,
           98,
           98,
           98,
           98,
           103,
           103,
           114,
           114,
           114,
           114,
           118,
           102,
           102,
           94,
           94,
           107,
           107,
           107,
           123,
           123,
           115,
           115,
           133,
           113,
           116,
           116,
           95,
           95,
           95,
           95,
           130,
           120,
           121,
           104,
           117,
           117,
           110,
           110,
           111,
           101,
           101,
           101,
           101,
           101,
           101,
           131,
           128,
           119,
           119,
           109,
           109,
           127,
           129,
           96,
           96,
           96,
           96,
           91,
           91,
           91,
           105,
           105,
           105,
           105,
           105,
           105,
           106
          ],
          "target": [
           1,
           4,
           5,
           6,
           7,
           9,
           4,
           10,
           11,
           12,
           13,
           14,
           15,
           16,
           17,
           1,
           18,
           20,
           9,
           5,
           17,
           24,
           26,
           28,
           30,
           31,
           33,
           31,
           35,
           14,
           5,
           6,
           37,
           39,
           40,
           28,
           33,
           1,
           9,
           30,
           39,
           42,
           5,
           37,
           1,
           37,
           39,
           45,
           17,
           47,
           11,
           48,
           15,
           50,
           48,
           33,
           45,
           51,
           14,
           53,
           14,
           15,
           55,
           17,
           51,
           5,
           26,
           33,
           15,
           37,
           40,
           42,
           4,
           63,
           7,
           1,
           18,
           50,
           48,
           67,
           69,
           70,
           26,
           72,
           48,
           45,
           7,
           26,
           45,
           55,
           42,
           31,
           40,
           31,
           82,
           84,
           5,
           40,
           12,
           24,
           9,
           7,
           88,
           90,
           91,
           92,
           93,
           94,
           95,
           96,
           97,
           98,
           96,
           99,
           100,
           101,
           102,
           103,
           104,
           105,
           106,
           103,
           107,
           105,
           108,
           100,
           103,
           109,
           110,
           111,
           96,
           107,
           101,
           112,
           98,
           113,
           114,
           115,
           116,
           95,
           117,
           110,
           105,
           98,
           118,
           96,
           114,
           112,
           119,
           97,
           120,
           121,
           105,
           117,
           91,
           102,
           97,
           122,
           100,
           116,
           91,
           114,
           123,
           124,
           125,
           95,
           105,
           114,
           112,
           108,
           101,
           91,
           121,
           98,
           95,
           124,
           98,
           115,
           98,
           101,
           119,
           105,
           112,
           107,
           126,
           101,
           127,
           105,
           128,
           112,
           99,
           129,
           123,
           130,
           109,
           105,
           94,
           131,
           119,
           105,
           102,
           132,
           126,
           133,
           101,
           105,
           101,
           105,
           134,
           135,
           136,
           137,
           138,
           137,
           139,
           135,
           140,
           141,
           139,
           141,
           142,
           140,
           139,
           141,
           142,
           135,
           135,
           141,
           136,
           143,
           136,
           138,
           139,
           142,
           134,
           135,
           136,
           138,
           135,
           143,
           138,
           138,
           143,
           136,
           135,
           138,
           135,
           142,
           136,
           142,
           139,
           135,
           142,
           139,
           138,
           142,
           136,
           140,
           143,
           142,
           143,
           134,
           142,
           143,
           136,
           142,
           144,
           141,
           136,
           136,
           138,
           134,
           139,
           135,
           142,
           140,
           136,
           134,
           135,
           139,
           135,
           136,
           142,
           138,
           134,
           139,
           142,
           139,
           143,
           142,
           145,
           134,
           139,
           135,
           143,
           142,
           139
          ],
          "value": [
           1,
           1,
           1,
           1,
           1,
           1,
           7,
           12,
           10,
           1,
           3,
           2,
           1,
           1,
           1,
           1,
           1,
           1,
           9,
           3,
           1,
           6,
           1,
           1,
           2,
           1,
           1,
           1,
           1,
           1,
           3,
           3,
           1,
           2,
           1,
           1,
           1,
           1,
           2,
           4,
           2,
           3,
           4,
           1,
           6,
           3,
           1,
           2,
           2,
           2,
           1,
           1,
           1,
           1,
           2,
           3,
           1,
           1,
           1,
           1,
           1,
           2,
           3,
           1,
           1,
           1,
           1,
           2,
           2,
           2,
           1,
           1,
           2,
           1,
           1,
           1,
           1,
           1,
           1,
           3,
           2,
           3,
           1,
           1,
           2,
           2,
           1,
           1,
           2,
           1,
           1,
           2,
           1,
           1,
           1,
           3,
           1,
           1,
           2,
           1,
           2,
           1,
           4,
           7,
           3,
           1,
           8,
           1,
           2,
           2,
           2,
           2,
           1,
           1,
           1,
           4,
           2,
           2,
           1,
           3,
           1,
           1,
           1,
           3,
           1,
           1,
           2,
           1,
           1,
           7,
           2,
           1,
           11,
           1,
           1,
           10,
           3,
           1,
           1,
           2,
           1,
           3,
           2,
           1,
           2,
           1,
           1,
           1,
           1,
           1,
           1,
           1,
           1,
           3,
           1,
           3,
           4,
           2,
           1,
           1,
           2,
           1,
           1,
           3,
           1,
           2,
           1,
           1,
           2,
           2,
           2,
           1,
           3,
           1,
           1,
           2,
           1,
           1,
           2,
           1,
           1,
           1,
           6,
           1,
           2,
           1,
           1,
           2,
           1,
           1,
           1,
           3,
           3,
           1,
           1,
           2,
           1,
           2,
           1,
           1,
           3,
           7,
           1,
           1,
           7,
           1,
           1,
           1,
           1,
           1,
           1,
           3,
           2,
           1,
           1,
           1,
           1,
           8,
           7,
           5,
           2,
           3,
           1,
           6,
           1,
           2,
           1,
           2,
           1,
           2,
           1,
           1,
           3,
           3,
           3,
           2,
           1,
           1,
           3,
           1,
           2,
           5,
           3,
           1,
           1,
           1,
           1,
           1,
           1,
           3,
           1,
           1,
           1,
           10,
           1,
           1,
           2,
           1,
           2,
           2,
           1,
           1,
           4,
           1,
           1,
           3,
           3,
           1,
           7,
           3,
           2,
           3,
           6,
           1,
           12,
           2,
           1,
           1,
           2,
           1,
           1,
           1,
           3,
           2,
           1,
           2,
           1,
           1,
           4,
           2,
           2,
           1,
           1,
           9,
           2,
           3,
           1
          ]
         },
         "node": {
          "label": [
           "TRAV1-2*01",
           "TRAJ6*01",
           null,
           "TRAV12-1*01",
           "TRAJ23*01",
           "TRAJ28*01",
           "TRAJ34*01",
           "TRAJ43*01",
           "TRAV12-2*01",
           "TRAJ12*01",
           "TRAJ24*02",
           "TRAJ27*01",
           "TRAJ30*01",
           "TRAJ41*01",
           "TRAJ45*01",
           "TRAJ49*01",
           "TRAJ5*01",
           "TRAJ54*01",
           "TRAJ8*01",
           "TRAV12-2*02",
           "TRAJ50*01",
           "TRAV12-3*01",
           "TRAV13-1*01",
           "TRAV14-1*01",
           "TRAJ48*01",
           "TRAV14-3*01",
           "TRAJ13*01",
           "TRAV14-3*05",
           "TRAJ38*01",
           "TRAV14D-1*01",
           "TRAJ15*01",
           "TRAJ22*01",
           "TRAV16*01",
           "TRAJ39*01",
           "TRAV17*01",
           "TRAJ29*01",
           "TRAV19*01",
           "TRAJ53*01",
           "TRAV20*01",
           "TRAJ18*01",
           "TRAJ33*01",
           "TRAV21*01",
           "TRAJ21*01",
           "TRAV21/DV12*01",
           "TRAV22*01",
           "TRAJ40*01",
           "TRAV24*01",
           "TRAJ17*01",
           "TRAJ37*01",
           "TRAV26-1*01",
           "TRAJ32*01",
           "TRAJ42*01",
           "TRAV26-1*02",
           "TRAJ13*02",
           "TRAV26-2*01",
           "TRAJ52*01",
           "TRAV27*01",
           "TRAV3*01",
           "TRAV30*01",
           "TRAV30*05",
           "TRAV35*01",
           "TRAV39*01",
           "TRAV4*01",
           "TRAJ4*01",
           "TRAV4-2*01",
           "TRAV4-4/DV10*01",
           "TRAV4-4/DV10*02",
           "TRAJ56*01",
           "TRAV4D-4*03",
           "TRAJ16*01",
           "TRAJ34*02",
           "TRAV5*01",
           "TRAJ31*01",
           "TRAV5-4*02",
           "TRAV6*01",
           "TRAV6-3*01",
           "TRAV6-6*01",
           "TRAV6-7/DV9*01",
           "TRAV7-1*02",
           "TRAV7-2*02",
           "TRAV8-1*03",
           "TRAV8-2*01",
           "TRAJ26*01",
           "TRAV8-3*01",
           "TRAJ10*01",
           "TRAV8-4*01",
           "TRAV9-2*02",
           "TRAV9-4*01",
           "TRAJ35*02",
           "TRAV9D-3*01",
           "TRAJ58*01",
           "TRBV7-9*03",
           "TRBV10-2*01",
           "TRBV12-4*01",
           "TRBV27*01",
           "TRBV5-1*01",
           "TRBV7-9*01",
           "TRBV13-2*01",
           "TRBV19*01",
           "TRBV1*01",
           "TRBV17*01",
           "TRBV6-5*01",
           "TRBV26*01",
           "TRBV2*01",
           "TRBV5-8*01",
           "TRBV9*01",
           "TRBV9*02",
           "TRBV28*01",
           "TRBV16*01",
           "TRBV7-3*01",
           "TRBV6-2*01",
           "TRBV6-4*01",
           "TRBV13-3*01",
           "TRBV30*02",
           "TRBV20-1*01",
           "TRBV29-1*01",
           "TRBV4-1*01",
           "TRBV6-1*01",
           "TRBV24-1*01",
           "TRBV7-2*01",
           "TRBV5-5*01",
           "TRBV5-6*01",
           "TRBV14*01",
           "TRBV29*01",
           "TRBV11-2*01",
           "TRBV12-3*01",
           "TRBV10-3*01",
           "TRBV7-6*01",
           "TRBV6-6*02",
           "TRBV7-8*01",
           "TRBV5-4*01",
           "TRBV6-6*01",
           "TRBV13-1*02",
           "TRBV3-1*01",
           "TRBJ2-1*01",
           "TRBJ2-3*01",
           "TRBJ1-1*01",
           "TRBJ1-5*01",
           "TRBJ1-2*01",
           "TRBJ2-2*01",
           "TRBJ1-3*01",
           "TRBJ2-4*01",
           "TRBJ2-7*01",
           "TRBJ2-5*01",
           "TRBJ1-6*01",
           "TRBJ1-4*01"
          ],
          "line": {
           "color": "black",
           "width": 0.5
          },
          "pad": 15,
          "thickness": 20
         },
         "type": "sankey"
        }
       ],
       "layout": {
        "font": {
         "size": 10
        },
        "height": 800,
        "template": {
         "data": {
          "bar": [
           {
            "error_x": {
             "color": "#2a3f5f"
            },
            "error_y": {
             "color": "#2a3f5f"
            },
            "marker": {
             "line": {
              "color": "#E5ECF6",
              "width": 0.5
             },
             "pattern": {
              "fillmode": "overlay",
              "size": 10,
              "solidity": 0.2
             }
            },
            "type": "bar"
           }
          ],
          "barpolar": [
           {
            "marker": {
             "line": {
              "color": "#E5ECF6",
              "width": 0.5
             },
             "pattern": {
              "fillmode": "overlay",
              "size": 10,
              "solidity": 0.2
             }
            },
            "type": "barpolar"
           }
          ],
          "carpet": [
           {
            "aaxis": {
             "endlinecolor": "#2a3f5f",
             "gridcolor": "white",
             "linecolor": "white",
             "minorgridcolor": "white",
             "startlinecolor": "#2a3f5f"
            },
            "baxis": {
             "endlinecolor": "#2a3f5f",
             "gridcolor": "white",
             "linecolor": "white",
             "minorgridcolor": "white",
             "startlinecolor": "#2a3f5f"
            },
            "type": "carpet"
           }
          ],
          "choropleth": [
           {
            "colorbar": {
             "outlinewidth": 0,
             "ticks": ""
            },
            "type": "choropleth"
           }
          ],
          "contour": [
           {
            "colorbar": {
             "outlinewidth": 0,
             "ticks": ""
            },
            "colorscale": [
             [
              0.0,
              "#0d0887"
             ],
             [
              0.1111111111111111,
              "#46039f"
             ],
             [
              0.2222222222222222,
              "#7201a8"
             ],
             [
              0.3333333333333333,
              "#9c179e"
             ],
             [
              0.4444444444444444,
              "#bd3786"
             ],
             [
              0.5555555555555556,
              "#d8576b"
             ],
             [
              0.6666666666666666,
              "#ed7953"
             ],
             [
              0.7777777777777778,
              "#fb9f3a"
             ],
             [
              0.8888888888888888,
              "#fdca26"
             ],
             [
              1.0,
              "#f0f921"
             ]
            ],
            "type": "contour"
           }
          ],
          "contourcarpet": [
           {
            "colorbar": {
             "outlinewidth": 0,
             "ticks": ""
            },
            "type": "contourcarpet"
           }
          ],
          "heatmap": [
           {
            "colorbar": {
             "outlinewidth": 0,
             "ticks": ""
            },
            "colorscale": [
             [
              0.0,
              "#0d0887"
             ],
             [
              0.1111111111111111,
              "#46039f"
             ],
             [
              0.2222222222222222,
              "#7201a8"
             ],
             [
              0.3333333333333333,
              "#9c179e"
             ],
             [
              0.4444444444444444,
              "#bd3786"
             ],
             [
              0.5555555555555556,
              "#d8576b"
             ],
             [
              0.6666666666666666,
              "#ed7953"
             ],
             [
              0.7777777777777778,
              "#fb9f3a"
             ],
             [
              0.8888888888888888,
              "#fdca26"
             ],
             [
              1.0,
              "#f0f921"
             ]
            ],
            "type": "heatmap"
           }
          ],
          "histogram": [
           {
            "marker": {
             "pattern": {
              "fillmode": "overlay",
              "size": 10,
              "solidity": 0.2
             }
            },
            "type": "histogram"
           }
          ],
          "histogram2d": [
           {
            "colorbar": {
             "outlinewidth": 0,
             "ticks": ""
            },
            "colorscale": [
             [
              0.0,
              "#0d0887"
             ],
             [
              0.1111111111111111,
              "#46039f"
             ],
             [
              0.2222222222222222,
              "#7201a8"
             ],
             [
              0.3333333333333333,
              "#9c179e"
             ],
             [
              0.4444444444444444,
              "#bd3786"
             ],
             [
              0.5555555555555556,
              "#d8576b"
             ],
             [
              0.6666666666666666,
              "#ed7953"
             ],
             [
              0.7777777777777778,
              "#fb9f3a"
             ],
             [
              0.8888888888888888,
              "#fdca26"
             ],
             [
              1.0,
              "#f0f921"
             ]
            ],
            "type": "histogram2d"
           }
          ],
          "histogram2dcontour": [
           {
            "colorbar": {
             "outlinewidth": 0,
             "ticks": ""
            },
            "colorscale": [
             [
              0.0,
              "#0d0887"
             ],
             [
              0.1111111111111111,
              "#46039f"
             ],
             [
              0.2222222222222222,
              "#7201a8"
             ],
             [
              0.3333333333333333,
              "#9c179e"
             ],
             [
              0.4444444444444444,
              "#bd3786"
             ],
             [
              0.5555555555555556,
              "#d8576b"
             ],
             [
              0.6666666666666666,
              "#ed7953"
             ],
             [
              0.7777777777777778,
              "#fb9f3a"
             ],
             [
              0.8888888888888888,
              "#fdca26"
             ],
             [
              1.0,
              "#f0f921"
             ]
            ],
            "type": "histogram2dcontour"
           }
          ],
          "mesh3d": [
           {
            "colorbar": {
             "outlinewidth": 0,
             "ticks": ""
            },
            "type": "mesh3d"
           }
          ],
          "parcoords": [
           {
            "line": {
             "colorbar": {
              "outlinewidth": 0,
              "ticks": ""
             }
            },
            "type": "parcoords"
           }
          ],
          "pie": [
           {
            "automargin": true,
            "type": "pie"
           }
          ],
          "scatter": [
           {
            "fillpattern": {
             "fillmode": "overlay",
             "size": 10,
             "solidity": 0.2
            },
            "type": "scatter"
           }
          ],
          "scatter3d": [
           {
            "line": {
             "colorbar": {
              "outlinewidth": 0,
              "ticks": ""
             }
            },
            "marker": {
             "colorbar": {
              "outlinewidth": 0,
              "ticks": ""
             }
            },
            "type": "scatter3d"
           }
          ],
          "scattercarpet": [
           {
            "marker": {
             "colorbar": {
              "outlinewidth": 0,
              "ticks": ""
             }
            },
            "type": "scattercarpet"
           }
          ],
          "scattergeo": [
           {
            "marker": {
             "colorbar": {
              "outlinewidth": 0,
              "ticks": ""
             }
            },
            "type": "scattergeo"
           }
          ],
          "scattergl": [
           {
            "marker": {
             "colorbar": {
              "outlinewidth": 0,
              "ticks": ""
             }
            },
            "type": "scattergl"
           }
          ],
          "scattermap": [
           {
            "marker": {
             "colorbar": {
              "outlinewidth": 0,
              "ticks": ""
             }
            },
            "type": "scattermap"
           }
          ],
          "scattermapbox": [
           {
            "marker": {
             "colorbar": {
              "outlinewidth": 0,
              "ticks": ""
             }
            },
            "type": "scattermapbox"
           }
          ],
          "scatterpolar": [
           {
            "marker": {
             "colorbar": {
              "outlinewidth": 0,
              "ticks": ""
             }
            },
            "type": "scatterpolar"
           }
          ],
          "scatterpolargl": [
           {
            "marker": {
             "colorbar": {
              "outlinewidth": 0,
              "ticks": ""
             }
            },
            "type": "scatterpolargl"
           }
          ],
          "scatterternary": [
           {
            "marker": {
             "colorbar": {
              "outlinewidth": 0,
              "ticks": ""
             }
            },
            "type": "scatterternary"
           }
          ],
          "surface": [
           {
            "colorbar": {
             "outlinewidth": 0,
             "ticks": ""
            },
            "colorscale": [
             [
              0.0,
              "#0d0887"
             ],
             [
              0.1111111111111111,
              "#46039f"
             ],
             [
              0.2222222222222222,
              "#7201a8"
             ],
             [
              0.3333333333333333,
              "#9c179e"
             ],
             [
              0.4444444444444444,
              "#bd3786"
             ],
             [
              0.5555555555555556,
              "#d8576b"
             ],
             [
              0.6666666666666666,
              "#ed7953"
             ],
             [
              0.7777777777777778,
              "#fb9f3a"
             ],
             [
              0.8888888888888888,
              "#fdca26"
             ],
             [
              1.0,
              "#f0f921"
             ]
            ],
            "type": "surface"
           }
          ],
          "table": [
           {
            "cells": {
             "fill": {
              "color": "#EBF0F8"
             },
             "line": {
              "color": "white"
             }
            },
            "header": {
             "fill": {
              "color": "#C8D4E3"
             },
             "line": {
              "color": "white"
             }
            },
            "type": "table"
           }
          ]
         },
         "layout": {
          "annotationdefaults": {
           "arrowcolor": "#2a3f5f",
           "arrowhead": 0,
           "arrowwidth": 1
          },
          "autotypenumbers": "strict",
          "coloraxis": {
           "colorbar": {
            "outlinewidth": 0,
            "ticks": ""
           }
          },
          "colorscale": {
           "diverging": [
            [
             0,
             "#8e0152"
            ],
            [
             0.1,
             "#c51b7d"
            ],
            [
             0.2,
             "#de77ae"
            ],
            [
             0.3,
             "#f1b6da"
            ],
            [
             0.4,
             "#fde0ef"
            ],
            [
             0.5,
             "#f7f7f7"
            ],
            [
             0.6,
             "#e6f5d0"
            ],
            [
             0.7,
             "#b8e186"
            ],
            [
             0.8,
             "#7fbc41"
            ],
            [
             0.9,
             "#4d9221"
            ],
            [
             1,
             "#276419"
            ]
           ],
           "sequential": [
            [
             0.0,
             "#0d0887"
            ],
            [
             0.1111111111111111,
             "#46039f"
            ],
            [
             0.2222222222222222,
             "#7201a8"
            ],
            [
             0.3333333333333333,
             "#9c179e"
            ],
            [
             0.4444444444444444,
             "#bd3786"
            ],
            [
             0.5555555555555556,
             "#d8576b"
            ],
            [
             0.6666666666666666,
             "#ed7953"
            ],
            [
             0.7777777777777778,
             "#fb9f3a"
            ],
            [
             0.8888888888888888,
             "#fdca26"
            ],
            [
             1.0,
             "#f0f921"
            ]
           ],
           "sequentialminus": [
            [
             0.0,
             "#0d0887"
            ],
            [
             0.1111111111111111,
             "#46039f"
            ],
            [
             0.2222222222222222,
             "#7201a8"
            ],
            [
             0.3333333333333333,
             "#9c179e"
            ],
            [
             0.4444444444444444,
             "#bd3786"
            ],
            [
             0.5555555555555556,
             "#d8576b"
            ],
            [
             0.6666666666666666,
             "#ed7953"
            ],
            [
             0.7777777777777778,
             "#fb9f3a"
            ],
            [
             0.8888888888888888,
             "#fdca26"
            ],
            [
             1.0,
             "#f0f921"
            ]
           ]
          },
          "colorway": [
           "#636efa",
           "#EF553B",
           "#00cc96",
           "#ab63fa",
           "#FFA15A",
           "#19d3f3",
           "#FF6692",
           "#B6E880",
           "#FF97FF",
           "#FECB52"
          ],
          "font": {
           "color": "#2a3f5f"
          },
          "geo": {
           "bgcolor": "white",
           "lakecolor": "white",
           "landcolor": "#E5ECF6",
           "showlakes": true,
           "showland": true,
           "subunitcolor": "white"
          },
          "hoverlabel": {
           "align": "left"
          },
          "hovermode": "closest",
          "mapbox": {
           "style": "light"
          },
          "paper_bgcolor": "white",
          "plot_bgcolor": "#E5ECF6",
          "polar": {
           "angularaxis": {
            "gridcolor": "white",
            "linecolor": "white",
            "ticks": ""
           },
           "bgcolor": "#E5ECF6",
           "radialaxis": {
            "gridcolor": "white",
            "linecolor": "white",
            "ticks": ""
           }
          },
          "scene": {
           "xaxis": {
            "backgroundcolor": "#E5ECF6",
            "gridcolor": "white",
            "gridwidth": 2,
            "linecolor": "white",
            "showbackground": true,
            "ticks": "",
            "zerolinecolor": "white"
           },
           "yaxis": {
            "backgroundcolor": "#E5ECF6",
            "gridcolor": "white",
            "gridwidth": 2,
            "linecolor": "white",
            "showbackground": true,
            "ticks": "",
            "zerolinecolor": "white"
           },
           "zaxis": {
            "backgroundcolor": "#E5ECF6",
            "gridcolor": "white",
            "gridwidth": 2,
            "linecolor": "white",
            "showbackground": true,
            "ticks": "",
            "zerolinecolor": "white"
           }
          },
          "shapedefaults": {
           "line": {
            "color": "#2a3f5f"
           }
          },
          "ternary": {
           "aaxis": {
            "gridcolor": "white",
            "linecolor": "white",
            "ticks": ""
           },
           "baxis": {
            "gridcolor": "white",
            "linecolor": "white",
            "ticks": ""
           },
           "bgcolor": "#E5ECF6",
           "caxis": {
            "gridcolor": "white",
            "linecolor": "white",
            "ticks": ""
           }
          },
          "title": {
           "x": 0.05
          },
          "xaxis": {
           "automargin": true,
           "gridcolor": "white",
           "linecolor": "white",
           "ticks": "",
           "title": {
            "standoff": 15
           },
           "zerolinecolor": "white",
           "zerolinewidth": 2
          },
          "yaxis": {
           "automargin": true,
           "gridcolor": "white",
           "linecolor": "white",
           "ticks": "",
           "title": {
            "standoff": 15
           },
           "zerolinecolor": "white",
           "zerolinewidth": 2
          }
         }
        },
        "title": {
         "text": "TCR Gene Pairings"
        },
        "width": 800
       }
      }
     },
     "metadata": {},
     "output_type": "display_data"
    }
   ],
   "source": [
    "tcr_genes = structures_summary.filter(regex=\"[vj]_(alpha)|(beta)_gene\")\n",
    "gene_columns = tcr_genes.columns.tolist()\n",
    "\n",
    "pairs = []\n",
    "for i in range(len(gene_columns) - 1):\n",
    "    flow = (\n",
    "        tcr_genes.groupby([gene_columns[i], gene_columns[i + 1]])\n",
    "        .size()\n",
    "        .reset_index(name=\"count\")\n",
    "    )\n",
    "    pairs.append(flow)\n",
    "\n",
    "all_genes = pd.concat(\n",
    "    [df[[gene_columns[i], gene_columns[i + 1]]] for i, df in enumerate(pairs)]\n",
    ")\n",
    "unique_genes = pd.unique(all_genes.values.ravel())\n",
    "gene_to_index = {gene: i for i, gene in enumerate(unique_genes)}\n",
    "\n",
    "sources, targets, values = [], [], []\n",
    "for i, df in enumerate(pairs):\n",
    "    for _, row in df.iterrows():\n",
    "        sources.append(gene_to_index[row[gene_columns[i]]])\n",
    "        targets.append(gene_to_index[row[gene_columns[i + 1]]])\n",
    "        values.append(row[\"count\"])\n",
    "\n",
    "fig = go.Figure(\n",
    "    data=[\n",
    "        go.Sankey(\n",
    "            node=dict(\n",
    "                pad=15,\n",
    "                thickness=20,\n",
    "                line=dict(color=\"black\", width=0.5),\n",
    "                label=list(unique_genes),\n",
    "            ),\n",
    "            link=dict(source=sources, target=targets, value=values),\n",
    "        )\n",
    "    ]\n",
    ")\n",
    "\n",
    "fig.update_layout(title_text=\"TCR Gene Pairings\", height=800, width=800, font_size=10)\n",
    "fig.show()"
   ]
  },
  {
   "cell_type": "code",
   "execution_count": 7,
   "id": "6727d9db",
   "metadata": {
    "execution": {
     "iopub.execute_input": "2025-05-27T14:32:47.287270Z",
     "iopub.status.busy": "2025-05-27T14:32:47.286587Z",
     "iopub.status.idle": "2025-05-27T14:32:47.403124Z",
     "shell.execute_reply": "2025-05-27T14:32:47.402563Z"
    },
    "papermill": {
     "duration": 0.134891,
     "end_time": "2025-05-27T14:32:47.404480",
     "exception": false,
     "start_time": "2025-05-27T14:32:47.269589",
     "status": "completed"
    },
    "tags": []
   },
   "outputs": [],
   "source": [
    "cdr_sequences = structures_summary.filter(regex=\"^cdr[ab][1-3]_sequence$\")\n",
    "cdr_sequences = cdr_sequences.melt(\n",
    "    value_vars=cdr_sequences.columns, value_name=\"sequence\", var_name=\"cdr_type\"\n",
    ")\n",
    "\n",
    "cdr_sequences[[\"chain_type\", \"cdr\"]] = (\n",
    "    cdr_sequences[\"cdr_type\"]\n",
    "    .map(\n",
    "        lambda cdr_type: tuple(cdr_type.replace(\"cdr\", \"\").replace(\"_sequence\", \"\")),\n",
    "    )\n",
    "    .apply(pd.Series)\n",
    ")\n",
    "\n",
    "cdr_sequences[\"chain_type\"] = cdr_sequences[\"chain_type\"].map(\n",
    "    {\"a\": \"alpha_chain\", \"b\": \"beta_chain\"}\n",
    ")\n",
    "cdr_sequences[\"cdr\"] = cdr_sequences[\"cdr\"].apply(int)\n",
    "\n",
    "cdr_sequences[\"length\"] = cdr_sequences[\"sequence\"].str.len()"
   ]
  },
  {
   "cell_type": "code",
   "execution_count": 8,
   "id": "f25aa30b",
   "metadata": {
    "execution": {
     "iopub.execute_input": "2025-05-27T14:32:47.437680Z",
     "iopub.status.busy": "2025-05-27T14:32:47.437133Z",
     "iopub.status.idle": "2025-05-27T14:32:48.815710Z",
     "shell.execute_reply": "2025-05-27T14:32:48.815267Z"
    },
    "papermill": {
     "duration": 1.395911,
     "end_time": "2025-05-27T14:32:48.816712",
     "exception": false,
     "start_time": "2025-05-27T14:32:47.420801",
     "status": "completed"
    },
    "tags": []
   },
   "outputs": [
    {
     "data": {
      "image/png": "[encoded data removed]",
      "text/plain": [
       "<Figure size 1200x800 with 6 Axes>"
      ]
     },
     "metadata": {},
     "output_type": "display_data"
    }
   ],
   "source": [
    "grid = sns.displot(\n",
    "    cdr_sequences.sort_values([\"chain_type\", \"cdr\"]),\n",
    "    x=\"length\",\n",
    "    row=\"chain_type\",\n",
    "    col=\"cdr\",\n",
    "    height=4,\n",
    ")\n",
    "\n",
    "grid.figure.suptitle(\"CDR length distribution\", fontsize=16)\n",
    "grid.figure.subplots_adjust(top=0.9)\n",
    "\n",
    "grid.set_axis_labels(\"\", \"\")\n",
    "grid.figure.text(0.5, 0.02, \"Length\", ha=\"center\", va=\"center\", fontsize=14)\n",
    "grid.figure.text(\n",
    "    0.02, 0.5, \"Count\", ha=\"center\", va=\"center\", rotation=\"vertical\", fontsize=14\n",
    ")\n",
    "\n",
    "grid.set_titles(\"\")\n",
    "for (chain_type, cdr), ax in grid.axes_dict.items():\n",
    "    custom_title = f\"CDR{cdr}\" + (\n",
    "        r\"$\\alpha$\" if chain_type == \"alpha_chain\" else r\"$\\beta$\"\n",
    "    )\n",
    "    ax.set_title(custom_title, fontsize=12)\n",
    "\n",
    "plt.show()"
   ]
  },
  {
   "cell_type": "markdown",
   "id": "f7a12bd6",
   "metadata": {
    "papermill": {
     "duration": 0.015061,
     "end_time": "2025-05-27T14:32:48.848461",
     "exception": false,
     "start_time": "2025-05-27T14:32:48.833400",
     "status": "completed"
    },
    "tags": []
   },
   "source": [
    "## pMHCs"
   ]
  },
  {
   "cell_type": "code",
   "execution_count": 9,
   "id": "2513e7da",
   "metadata": {
    "execution": {
     "iopub.execute_input": "2025-05-27T14:32:48.880062Z",
     "iopub.status.busy": "2025-05-27T14:32:48.879807Z",
     "iopub.status.idle": "2025-05-27T14:32:48.941559Z",
     "shell.execute_reply": "2025-05-27T14:32:48.941111Z"
    },
    "papermill": {
     "duration": 0.078799,
     "end_time": "2025-05-27T14:32:48.942615",
     "exception": false,
     "start_time": "2025-05-27T14:32:48.863816",
     "status": "completed"
    },
    "tags": []
   },
   "outputs": [
    {
     "data": {
      "image/png": "[encoded data removed]",
      "text/plain": [
       "<Figure size 640x480 with 1 Axes>"
      ]
     },
     "metadata": {},
     "output_type": "display_data"
    }
   ],
   "source": [
    "plt.title(\"Distribution of class I versus class II complexes\")\n",
    "\n",
    "structures_summary.value_counts(\"mhc_type\").plot.pie(autopct=\"%1.1f%%\")\n",
    "plt.ylabel(\"\")\n",
    "\n",
    "plt.show()"
   ]
  },
  {
   "cell_type": "code",
   "execution_count": 10,
   "id": "3dd7ec3b",
   "metadata": {
    "execution": {
     "iopub.execute_input": "2025-05-27T14:32:48.975712Z",
     "iopub.status.busy": "2025-05-27T14:32:48.975306Z",
     "iopub.status.idle": "2025-05-27T14:32:49.219874Z",
     "shell.execute_reply": "2025-05-27T14:32:49.219437Z"
    },
    "papermill": {
     "duration": 0.262323,
     "end_time": "2025-05-27T14:32:49.220770",
     "exception": false,
     "start_time": "2025-05-27T14:32:48.958447",
     "status": "completed"
    },
    "tags": []
   },
   "outputs": [
    {
     "data": {
      "image/png": "[encoded data removed]",
      "text/plain": [
       "<Figure size 640x480 with 1 Axes>"
      ]
     },
     "metadata": {},
     "output_type": "display_data"
    }
   ],
   "source": [
    "(\n",
    "    structures_summary[[\"mhc1_gene\", \"mhc2_gene\"]]\n",
    "    .fillna(\"\")\n",
    "    .replace(\"('human', 'B2M*02')\", \"\")\n",
    "    .apply(lambda row: \"/\".join([entry for entry in row if entry]), axis=1)\n",
    "    .value_counts()\n",
    "    .plot.bar()\n",
    ")\n",
    "\n",
    "plt.title(\"Distribution of MHC alleles\", fontsize=16)\n",
    "\n",
    "plt.ylabel(\"Count\", fontsize=14)\n",
    "plt.xlabel(\"MHC Allele Name\", fontsize=14)\n",
    "\n",
    "plt.show()"
   ]
  },
  {
   "cell_type": "code",
   "execution_count": 11,
   "id": "458b504d",
   "metadata": {
    "execution": {
     "iopub.execute_input": "2025-05-27T14:32:49.253051Z",
     "iopub.status.busy": "2025-05-27T14:32:49.252687Z",
     "iopub.status.idle": "2025-05-27T14:32:49.664518Z",
     "shell.execute_reply": "2025-05-27T14:32:49.664107Z"
    },
    "papermill": {
     "duration": 0.428425,
     "end_time": "2025-05-27T14:32:49.665583",
     "exception": false,
     "start_time": "2025-05-27T14:32:49.237158",
     "status": "completed"
    },
    "tags": []
   },
   "outputs": [
    {
     "data": {
      "image/png": "[encoded data removed]",
      "text/plain": [
       "<Figure size 1011.11x500 with 2 Axes>"
      ]
     },
     "metadata": {},
     "output_type": "display_data"
    }
   ],
   "source": [
    "structures_summary[\"antigen_length\"] = structures_summary[\"antigen_sequence\"].str.len()\n",
    "\n",
    "grid = sns.catplot(\n",
    "    structures_summary.groupby(\"mhc_type\")[\"antigen_length\"]\n",
    "    .value_counts(normalize=True)\n",
    "    .reset_index(),\n",
    "    x=\"antigen_length\",\n",
    "    y=\"proportion\",\n",
    "    col=\"mhc_type\",\n",
    "    kind=\"bar\",\n",
    "    edgecolor=\"black\",\n",
    "    linewidth=1.0,\n",
    ")\n",
    "grid.figure.suptitle(\"Distribution of peptide lengths\", fontsize=14)\n",
    "grid.figure.subplots_adjust(top=0.8, bottom=0.1, left=0.1)\n",
    "\n",
    "grid.set_titles(col_template=\"{col_name}\", size=14)\n",
    "\n",
    "grid.set_axis_labels(\"\", \"\")\n",
    "grid.figure.text(0.5, 0.02, \"Length\", ha=\"center\", va=\"center\", fontsize=12)\n",
    "grid.figure.text(\n",
    "    0.05, 0.5, \"Proportion\", ha=\"center\", va=\"center\", rotation=\"vertical\", fontsize=12\n",
    ")\n",
    "\n",
    "\n",
    "plt.show()"
   ]
  },
  {
   "cell_type": "markdown",
   "id": "f82a03bd",
   "metadata": {
    "papermill": {
     "duration": 0.03273,
     "end_time": "2025-05-27T14:32:49.717598",
     "exception": false,
     "start_time": "2025-05-27T14:32:49.684868",
     "status": "completed"
    },
    "tags": []
   },
   "source": [
    "## TCR:pMHC complex geometry\n",
    "\n",
    "The expected distribution are based on the values reported in \"[STCRpy: a software suite for T cell receptor structure parsing, interaction profiling and machine learning dataset preparation](https://www.biorxiv.org/content/10.1101/2025.04.25.650667v1)\"."
   ]
  },
  {
   "cell_type": "code",
   "execution_count": 12,
   "id": "72f7e420",
   "metadata": {
    "execution": {
     "iopub.execute_input": "2025-05-27T14:32:49.750506Z",
     "iopub.status.busy": "2025-05-27T14:32:49.750235Z",
     "iopub.status.idle": "2025-05-27T14:32:49.998282Z",
     "shell.execute_reply": "2025-05-27T14:32:49.997836Z"
    },
    "papermill": {
     "duration": 0.265627,
     "end_time": "2025-05-27T14:32:49.999274",
     "exception": false,
     "start_time": "2025-05-27T14:32:49.733647",
     "status": "completed"
    },
    "tags": []
   },
   "outputs": [
    {
     "data": {
      "image/png": "[encoded data removed]",
      "text/plain": [
       "<Figure size 1000x500 with 2 Axes>"
      ]
     },
     "metadata": {},
     "output_type": "display_data"
    }
   ],
   "source": [
    "fig, (ax1, ax2) = plt.subplots(1, 2, figsize=(10, 5))\n",
    "\n",
    "structures_summary[\"scanning_angle\"].plot.hist(density=True, label=\"Observed\", ax=ax1)\n",
    "\n",
    "x = np.linspace(-100, 150, 1000)\n",
    "scanning_angle = stats.norm.pdf(x, 67.9, np.sqrt(202.1))\n",
    "\n",
    "ax1.plot(x, scanning_angle, label=\"Expected\")\n",
    "\n",
    "ax1.legend()\n",
    "ax1.set_title(\"Scanning angle of TCR on pMHC\")\n",
    "ax1.set_xlabel(\"Scanning Angle (°)\")\n",
    "\n",
    "structures_summary[\"pitch_angle\"].plot.hist(density=True, label=\"Observed\", ax=ax2)\n",
    "\n",
    "x = np.linspace(0.0365, 100, 1000)\n",
    "pitch_angle = stats.gamma.pdf(x, a=1.20, scale=5.78)\n",
    "\n",
    "ax2.plot(x, pitch_angle, label=\"Expected\")\n",
    "\n",
    "ax2.legend()\n",
    "ax2.set_title(\"Pitch angle of TCR relative to pMHC\")\n",
    "ax2.set_xlabel(\"Pitch Angle (°)\")\n",
    "\n",
    "plt.show()"
   ]
  },
  {
   "cell_type": "code",
   "execution_count": 13,
   "id": "9255f297",
   "metadata": {
    "execution": {
     "iopub.execute_input": "2025-05-27T14:32:50.034475Z",
     "iopub.status.busy": "2025-05-27T14:32:50.034077Z",
     "iopub.status.idle": "2025-05-27T14:32:52.034885Z",
     "shell.execute_reply": "2025-05-27T14:32:52.034252Z"
    },
    "papermill": {
     "duration": 2.019587,
     "end_time": "2025-05-27T14:32:52.037037",
     "exception": false,
     "start_time": "2025-05-27T14:32:50.017450",
     "status": "completed"
    },
    "tags": []
   },
   "outputs": [],
   "source": [
    "interactions = []\n",
    "for path in glob.glob(\"data/interim/structures/*_interactions.csv\"):\n",
    "    name = os.path.basename(path).replace(\"_interactions.csv\", \"\")\n",
    "\n",
    "    df = pd.read_csv(path)\n",
    "    df[\"name\"] = name\n",
    "\n",
    "    interactions.append(df)\n",
    "\n",
    "interactions = pd.concat(interactions)"
   ]
  },
  {
   "cell_type": "code",
   "execution_count": 14,
   "id": "63260178",
   "metadata": {
    "execution": {
     "iopub.execute_input": "2025-05-27T14:32:52.073519Z",
     "iopub.status.busy": "2025-05-27T14:32:52.073230Z",
     "iopub.status.idle": "2025-05-27T14:32:52.085618Z",
     "shell.execute_reply": "2025-05-27T14:32:52.085105Z"
    },
    "papermill": {
     "duration": 0.030677,
     "end_time": "2025-05-27T14:32:52.086720",
     "exception": false,
     "start_time": "2025-05-27T14:32:52.056043",
     "status": "completed"
    },
    "tags": []
   },
   "outputs": [],
   "source": [
    "tcr_peptide_interactions = interactions[\n",
    "    ((interactions[\"protein_chain\"] == \"D\") | (interactions[\"protein_chain\"] == \"E\"))\n",
    "    & interactions[\"protein_residue\"]\n",
    "    .str.title()\n",
    "    .isin(IUPACData.protein_letters_3to1.keys())\n",
    "    & interactions[\"ligand_residue\"]\n",
    "    .str.title()\n",
    "    .isin(IUPACData.protein_letters_3to1.keys())\n",
    "]"
   ]
  },
  {
   "cell_type": "code",
   "execution_count": 15,
   "id": "d81b8b14",
   "metadata": {
    "execution": {
     "iopub.execute_input": "2025-05-27T14:32:52.124507Z",
     "iopub.status.busy": "2025-05-27T14:32:52.124219Z",
     "iopub.status.idle": "2025-05-27T14:32:52.321740Z",
     "shell.execute_reply": "2025-05-27T14:32:52.321216Z"
    },
    "papermill": {
     "duration": 0.217924,
     "end_time": "2025-05-27T14:32:52.322941",
     "exception": false,
     "start_time": "2025-05-27T14:32:52.105017",
     "status": "completed"
    },
    "tags": []
   },
   "outputs": [
    {
     "data": {
      "image/png": "[encoded data removed]",
      "text/plain": [
       "<Figure size 1000x500 with 2 Axes>"
      ]
     },
     "metadata": {},
     "output_type": "display_data"
    }
   ],
   "source": [
    "fig, (ax1, ax2) = plt.subplots(1, 2, figsize=(10, 5))\n",
    "\n",
    "fig.suptitle(\"Interactions between TCR and peptide\")\n",
    "\n",
    "tcr_peptide_interactions.groupby(\"name\").size().plot.box(ax=ax1)\n",
    "\n",
    "ax1.set_title(\"Interaction counts\")\n",
    "ax1.set_ylabel(\"Number of interactions per complex\")\n",
    "\n",
    "tcr_peptide_interactions[\"type\"].str.title().value_counts().plot.pie(\n",
    "    autopct=\"%1.1f%%\", ax=ax2\n",
    ")\n",
    "\n",
    "ax2.set_title(\"Types of interactions\")\n",
    "ax2.set_ylabel(\"\")\n",
    "\n",
    "plt.show()"
   ]
  }
 ],
 "metadata": {
  "kernelspec": {
   "display_name": "Python 3 (ipykernel)",
   "language": "python",
   "name": "python3"
  },
  "language_info": {
   "codemirror_mode": {
    "name": "ipython",
    "version": 3
   },
   "file_extension": ".py",
   "mimetype": "text/x-python",
   "name": "python",
   "nbconvert_exporter": "python",
   "pygments_lexer": "ipython3",
   "version": "3.11.12"
  },
  "papermill": {
   "default_parameters": {},
   "duration": 53.697459,
   "end_time": "2025-05-27T14:32:53.179504",
   "environment_variables": {},
   "exception": null,
   "input_path": "notebooks/structures_summary.ipynb",
   "output_path": "notebooks/structures_summary.ipynb",
   "parameters": {},
   "start_time": "2025-05-27T14:31:59.482045",
   "version": "2.6.0"
  }
 },
 "nbformat": 4,
 "nbformat_minor": 5
}